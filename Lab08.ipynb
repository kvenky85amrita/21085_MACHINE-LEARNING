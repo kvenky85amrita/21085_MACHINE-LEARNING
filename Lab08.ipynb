{
  "cells": [
    {
      "cell_type": "code",
      "execution_count": 12,
      "metadata": {
        "id": "4ako3gsGNvCQ"
      },
      "outputs": [],
      "source": [
        "#K.VENKATESH\n",
        "#REG NO:BL.EN.U4CSE21085"
      ]
    },
    {
      "cell_type": "code",
      "execution_count": 14,
      "metadata": {
        "colab": {
          "base_uri": "https://localhost:8080/",
          "height": 0
        },
        "id": "iLaPbDYDN2Zq",
        "outputId": "0fc308bc-717d-491e-e19b-b2cf0d466fd5"
      },
      "outputs": [
        {
          "name": "stdout",
          "output_type": "stream",
          "text": [
            "Prior Probabilities:\n",
            "no: 0.36\n",
            "yes: 0.64\n"
          ]
        }
      ],
      "source": [
        "#A1\n",
        "data = [\n",
        "    ('<=30', 'high', 'no', 'fair', 'no'),\n",
        "    ('<=30', 'high', 'no', 'excellent', 'no'),\n",
        "    ('31...40', 'high', 'no', 'fair', 'yes'),\n",
        "    ('>40', 'medium', 'no', 'fair', 'yes'),\n",
        "    ('>40', 'low', 'yes', 'fair', 'yes'),\n",
        "    ('>40', 'low', 'yes', 'excellent', 'no'),\n",
        "    ('31...40', 'low', 'yes', 'excellent', 'yes'),\n",
        "    ('<=30', 'medium', 'no', 'fair', 'no'),\n",
        "    ('<=30', 'low', 'yes', 'fair', 'yes'),\n",
        "    ('>40', 'medium', 'yes', 'fair', 'yes'),\n",
        "    ('<=30', 'medium', 'yes', 'excellent', 'yes'),\n",
        "    ('31...40', 'medium', 'no', 'excellent', 'yes'),\n",
        "    ('31...40', 'high', 'yes', 'fair', 'yes'),\n",
        "    ('>40', 'medium', 'no', 'excellent', 'no')\n",
        "]\n",
        "\n",
        "class_counts = {}\n",
        "total_instances = len(data)\n",
        "\n",
        "for instance in data:\n",
        "    class_label = instance[-1]\n",
        "    if class_label not in class_counts:\n",
        "        class_counts[class_label] = 1\n",
        "    else:\n",
        "        class_counts[class_label] += 1\n",
        "\n",
        "prior_probabilities = {class_label: count / total_instances for class_label, count in class_counts.items()}\n",
        "\n",
        "print(\"Prior Probabilities:\")\n",
        "for class_label, probability in prior_probabilities.items():\n",
        "    print(f\"{class_label}: {probability:.2f}\")\n"
      ]
    },
    {
      "cell_type": "code",
      "execution_count": 29,
      "metadata": {
        "colab": {
          "base_uri": "https://localhost:8080/"
        },
        "id": "q2IhwpTBOlvd",
        "outputId": "a646d6cd-ab80-42f8-8f31-65a5aea1e3c6"
      },
      "outputs": [
        {
          "name": "stdout",
          "output_type": "stream",
          "text": [
            "Loaded DataFrame:\n",
            "   age  income student credit_rating buys_computer\n",
            "0   30    high      no          fair            no\n",
            "1   35    high      no     excellent            no\n",
            "2   28     low     yes     excellent           yes\n",
            "3   40  medium      no          fair           yes\n",
            "4   25  medium     yes     excellent           yes\n",
            "5   38    high     yes          fair           yes\n",
            "6   20     low     yes          fair           yes\n",
            "7   32  medium      no     excellent           yes\n",
            "8   45    high      no          fair            no\n",
            "9   22  medium      no     excellent           yes\n",
            "\n",
            "Class Conditional Densities for age:\n",
            "Class: no\n",
            "[0.03568668 0.05100483 0.02743777 0.0474887  0.01626578 0.0514439\n",
            " 0.00482967 0.04333945 0.02880335 0.0082641 ]\n",
            "Class: yes\n",
            "[0.05146729 0.03929755 0.05097596 0.01972159 0.04430362 0.02732639\n",
            " 0.02506624 0.04858877 0.0065052  0.0331055 ]\n",
            "\n",
            "Class Conditional Densities for income:\n",
            "Class: no\n",
            "high    1.0\n",
            "Name: income, dtype: float64\n",
            "Class: yes\n",
            "medium    0.571429\n",
            "low       0.285714\n",
            "high      0.142857\n",
            "Name: income, dtype: float64\n",
            "\n",
            "Class Conditional Densities for student:\n",
            "Class: no\n",
            "no    1.0\n",
            "Name: student, dtype: float64\n",
            "Class: yes\n",
            "yes    0.571429\n",
            "no     0.428571\n",
            "Name: student, dtype: float64\n",
            "\n",
            "Class Conditional Densities for credit_rating:\n",
            "Class: no\n",
            "fair         0.666667\n",
            "excellent    0.333333\n",
            "Name: credit_rating, dtype: float64\n",
            "Class: yes\n",
            "excellent    0.571429\n",
            "fair         0.428571\n",
            "Name: credit_rating, dtype: float64\n"
          ]
        }
      ],
      "source": [
        "#A2\n",
        "import pandas as pd\n",
        "from scipy.stats import norm\n",
        "\n",
        "# Define the dataset\n",
        "data = [\n",
        "    [30, 'high', 'no', 'fair', 'no'],\n",
        "    [35, 'high', 'no', 'excellent', 'no'],\n",
        "    [28, 'low', 'yes', 'excellent', 'yes'],\n",
        "    [40, 'medium', 'no', 'fair', 'yes'],\n",
        "    [25, 'medium', 'yes', 'excellent', 'yes'],\n",
        "    [38, 'high', 'yes', 'fair', 'yes'],\n",
        "    [20, 'low', 'yes', 'fair', 'yes'],\n",
        "    [32, 'medium', 'no', 'excellent', 'yes'],\n",
        "    [45, 'high', 'no', 'fair', 'no'],\n",
        "    [22, 'medium', 'no', 'excellent', 'yes'],\n",
        "    # Add the rest of your data here\n",
        "]\n",
        "\n",
        "# Define the column names\n",
        "columns = ['age', 'income', 'student', 'credit_rating', 'buys_computer']\n",
        "\n",
        "# Create a DataFrame from the dataset\n",
        "df = pd.DataFrame(data, columns=columns)\n",
        "\n",
        "# Display the loaded DataFrame\n",
        "print(\"Loaded DataFrame:\")\n",
        "print(df)\n",
        "\n",
        "# Define the class column\n",
        "class_column = 'buys_computer'\n",
        "\n",
        "# Define the features to calculate class conditional densities\n",
        "feature_columns = ['age', 'income', 'student', 'credit_rating']\n",
        "\n",
        "# Calculate class conditional densities\n",
        "for feature in feature_columns:\n",
        "    print(f\"\\nClass Conditional Densities for {feature}:\")\n",
        "    for class_label in df[class_column].unique():\n",
        "        class_data = df[df[class_column] == class_label][feature]\n",
        "\n",
        "        # For categorical features, calculate probability mass function (PMF)\n",
        "        if df[feature].dtype == 'O':\n",
        "            class_conditional_density = class_data.value_counts(normalize=True)\n",
        "        # For continuous features, assume Gaussian distribution and use PDF\n",
        "        else:\n",
        "            mean = class_data.astype(float).mean()\n",
        "            std_dev = class_data.astype(float).std()\n",
        "            class_conditional_density = norm.pdf(df[feature], mean, std_dev)\n",
        "\n",
        "        # Display the results\n",
        "        print(f\"Class: {class_label}\")\n",
        "        print(class_conditional_density)\n"
      ]
    },
    {
      "cell_type": "code",
      "execution_count": 16,
      "metadata": {
        "colab": {
          "base_uri": "https://localhost:8080/",
          "height": 0
        },
        "id": "XxTg_Wg9Or4y",
        "outputId": "3b42f10b-b310-4524-a94f-e7bd710c0304"
      },
      "outputs": [
        {
          "name": "stdout",
          "output_type": "stream",
          "text": [
            "The four features are independent\n"
          ]
        }
      ],
      "source": [
        "#A3\n",
        "from scipy.stats import chi2_contingency\n",
        "\n",
        "# Define the dataset\n",
        "dataset = [\n",
        "    ['<=30', 'high', 'no', 'fair', 'no'],\n",
        "    ['<=30', 'high', 'no', 'excellent', 'no'],\n",
        "    ['31...40', 'high', 'no', 'fair', 'yes'],\n",
        "    ['>40', 'medium', 'no', 'fair', 'yes'],\n",
        "    ['>40', 'low', 'yes', 'fair', 'yes'],\n",
        "    ['>40', 'low', 'yes', 'excellent', 'no'],\n",
        "    ['31...40', 'low', 'yes', 'excellent', 'yes'],\n",
        "    ['<=30', 'medium', 'no', 'fair', 'no'],\n",
        "    ['<=30', 'low', 'yes', 'fair', 'yes'],\n",
        "    ['>40', 'medium', 'yes', 'fair', 'yes'],\n",
        "    ['<=30', 'medium', 'yes', 'excellent', 'yes'],\n",
        "    ['31...40', 'medium', 'no', 'fair', 'yes'],\n",
        "    ['31...40', 'high', 'yes', 'excellent', 'no'],\n",
        "    ['>40', 'medium', 'no', 'excellent', 'yes']\n",
        "]\n",
        "\n",
        "# Define the contingency table for the four features\n",
        "age = {'<=30': 0, '31...40': 0, '>40': 0}\n",
        "income = {'low': 0, 'medium': 0, 'high': 0}\n",
        "student = {'no': 0, 'yes': 0}\n",
        "credit_rating = {'fair': 0, 'excellent': 0}\n",
        "for row in dataset:\n",
        "    age[row[0]] += 1\n",
        "    income[row[1]] += 1\n",
        "    student[row[2]] += 1\n",
        "    credit_rating[row[3]] += 1\n",
        "contingency_table = [\n",
        "    [age['<=30'], age['31...40'], age['>40']],\n",
        "    [income['low'], income['medium'], income['high']],\n",
        "    [student['no'], student['yes'], 0],\n",
        "    [credit_rating['fair'], credit_rating['excellent'], 0]\n",
        "]\n",
        "\n",
        "# Perform the chi-squared test of independence\n",
        "stat, p, dof, expected = chi2_contingency(contingency_table)\n",
        "alpha = 0.05\n",
        "if p > alpha:\n",
        "    print('The four features are independent')\n",
        "else:\n",
        "    print('The four features are dependent ')\n"
      ]
    },
    {
      "cell_type": "code",
      "execution_count": 32,
      "metadata": {
        "colab": {
          "base_uri": "https://localhost:8080/"
        },
        "id": "8j9p0zSLSRJX",
        "outputId": "70f2adb1-f532-4674-e30a-749cd4728dcf"
      },
      "outputs": [
        {
          "name": "stdout",
          "output_type": "stream",
          "text": [
            "\n",
            "Accuracy of the Naive-Bayes classifier for the given dataset: 0.6666666666666666\n"
          ]
        }
      ],
      "source": [
        "#A4\n",
        "import pandas as pd\n",
        "from sklearn.model_selection import train_test_split\n",
        "from sklearn.naive_bayes import CategoricalNB\n",
        "from sklearn.metrics import accuracy_score\n",
        "\n",
        "# Define the dataset\n",
        "data = [\n",
        "    ['<=30', 'high', 'no', 'fair', 'no'],\n",
        "    ['<=30', 'high', 'no', 'excellent', 'no'],\n",
        "    ['31...40', 'high', 'no', 'fair', 'yes'],\n",
        "    ['>40', 'medium', 'no', 'fair', 'yes'],\n",
        "    ['>40', 'low', 'yes', 'fair', 'yes'],\n",
        "    ['>40', 'low', 'yes', 'excellent', 'no'],\n",
        "    ['31...40', 'low', 'yes', 'excellent', 'yes'],\n",
        "    ['<=30', 'medium', 'no', 'fair', 'no'],\n",
        "    ['<=30', 'low', 'yes', 'fair', 'yes'],\n",
        "    ['>40', 'medium', 'yes', 'fair', 'yes'],\n",
        "    ['<=30', 'medium', 'yes', 'excellent', 'yes'],\n",
        "    ['31...40', 'medium', 'no', 'fair', 'yes'],\n",
        "    ['31...40', 'high', 'yes', 'excellent', 'no'],\n",
        "    ['>40', 'medium', 'no', 'excellent', 'yes']\n",
        "]\n",
        "\n",
        "# Define column names\n",
        "columns = ['age', 'income', 'student', 'credit_rating', 'buys_computer']\n",
        "\n",
        "# Create a DataFrame from the dataset\n",
        "df = pd.DataFrame(data, columns=columns)\n",
        "\n",
        "# Assuming 'buys_computer' is the target variable\n",
        "X = df[['age', 'income', 'student', 'credit_rating']]\n",
        "y = df['buys_computer']\n",
        "\n",
        "# Preprocess categorical features (convert to one-hot encoding)\n",
        "X = pd.get_dummies(X, drop_first=True)\n",
        "\n",
        "# Split the data into training and testing sets\n",
        "Tr_X, Te_X, Tr_y, Te_y = train_test_split(X, y, test_size=0.2, random_state=42)\n",
        "\n",
        "# Train a Categorical Naive-Bayes classifier\n",
        "model = CategoricalNB()\n",
        "model.fit(Tr_X, Tr_y)\n",
        "\n",
        "# Predict on the test set\n",
        "predictions = model.predict(Te_X)\n",
        "\n",
        "# Evaluate the model\n",
        "accuracy = accuracy_score(Te_y, predictions)\n",
        "print(f\"\\nAccuracy of the Naive-Bayes classifier for the given dataset: {accuracy}\")\n"
      ]
    },
    {
      "cell_type": "code",
      "execution_count": 35,
      "metadata": {
        "colab": {
          "base_uri": "https://localhost:8080/"
        },
        "id": "J8JkmVuiTDDq",
        "outputId": "9a92c6d5-b71b-4a9d-8491-db4cafd636ea"
      },
      "outputs": [
        {
          "name": "stdout",
          "output_type": "stream",
          "text": [
            "Loaded DataFrame:\n",
            "         ph    Hardness        Solids  Chloramines     Sulfate  Conductivity  \\\n",
            "0       NaN  204.890455  20791.318981     7.300212  368.516441    564.308654   \n",
            "1  3.716080  129.422921  18630.057858     6.635246         NaN    592.885359   \n",
            "2  8.099124  224.236259  19909.541732     9.275884         NaN    418.606213   \n",
            "3  8.316766  214.373394  22018.417441     8.059332  356.886136    363.266516   \n",
            "4  9.092223  181.101509  17978.986339     6.546600  310.135738    398.410813   \n",
            "\n",
            "   Organic_carbon  Trihalomethanes  Turbidity  Potability  \n",
            "0       10.379783        86.990970   2.963135           0  \n",
            "1       15.180013        56.329076   4.500656           0  \n",
            "2       16.868637        66.420093   3.055934           0  \n",
            "3       18.436524       100.341674   4.628771           0  \n",
            "4       11.558279        31.997993   4.075075           0  \n",
            "\n",
            "Accuracy of the Naive-Bayes classifier: 0.63\n",
            "\n",
            "Classification Report:\n",
            "              precision    recall  f1-score   support\n",
            "\n",
            "           0       0.65      0.88      0.75       412\n",
            "           1       0.51      0.22      0.30       244\n",
            "\n",
            "    accuracy                           0.63       656\n",
            "   macro avg       0.58      0.55      0.53       656\n",
            "weighted avg       0.60      0.63      0.58       656\n",
            "\n",
            "\n",
            "Confusion Matrix:\n",
            "[[361  51]\n",
            " [191  53]]\n"
          ]
        }
      ],
      "source": [
        "#A5\n",
        "import pandas as pd\n",
        "from sklearn.model_selection import train_test_split\n",
        "from sklearn.naive_bayes import GaussianNB\n",
        "from sklearn.impute import SimpleImputer\n",
        "from sklearn.metrics import accuracy_score, classification_report, confusion_matrix\n",
        "\n",
        "# Load the water_potability dataset\n",
        "df = pd.read_csv('/content/water_potability.csv')\n",
        "\n",
        "# Display the loaded DataFrame\n",
        "print(\"Loaded DataFrame:\")\n",
        "print(df.head())\n",
        "\n",
        "# Define the features and target variable\n",
        "X = df.drop('Potability', axis=1)\n",
        "y = df['Potability']\n",
        "\n",
        "# Split the data into training and testing sets\n",
        "X_train, X_test, y_train, y_test = train_test_split(X, y, test_size=0.2, random_state=42)\n",
        "\n",
        "# Handle missing values using SimpleImputer\n",
        "imputer = SimpleImputer(strategy='mean')  # You can use other strategies like 'median' or 'most_frequent'\n",
        "X_train_imputed = pd.DataFrame(imputer.fit_transform(X_train), columns=X_train.columns)\n",
        "X_test_imputed = pd.DataFrame(imputer.transform(X_test), columns=X_test.columns)\n",
        "\n",
        "# Train a Gaussian Naive-Bayes classifier\n",
        "model = GaussianNB()\n",
        "model.fit(X_train_imputed, y_train)\n",
        "\n",
        "# Predict on the test set\n",
        "predictions = model.predict(X_test_imputed)\n",
        "\n",
        "# Evaluate the model\n",
        "accuracy = accuracy_score(y_test, predictions)\n",
        "print(f\"\\nAccuracy of the Naive-Bayes classifier: {accuracy:.2f}\")\n",
        "\n",
        "# Display additional evaluation metrics\n",
        "print(\"\\nClassification Report:\")\n",
        "print(classification_report(y_test, predictions))\n",
        "\n",
        "print(\"\\nConfusion Matrix:\")\n",
        "print(confusion_matrix(y_test, predictions))\n",
        "\n"
      ]
    }
  ],
  "metadata": {
    "colab": {
      "provenance": []
    },
    "kernelspec": {
      "display_name": "Python 3",
      "name": "python3"
    },
    "language_info": {
      "name": "python"
    }
  },
  "nbformat": 4,
  "nbformat_minor": 0
}
